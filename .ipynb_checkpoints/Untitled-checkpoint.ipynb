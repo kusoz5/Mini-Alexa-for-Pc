{
 "cells": [
  {
   "cell_type": "code",
   "execution_count": 1,
   "metadata": {},
   "outputs": [],
   "source": [
    "import speech_recognition  as sr\n",
    "import webbrowser as wb\n",
    "import pyttsx3 as p\n",
    "from selenium import webdriver\n",
    "import pyttsx3 as p"
   ]
  },
  {
   "cell_type": "code",
   "execution_count": 2,
   "metadata": {},
   "outputs": [],
   "source": [
    "r= sr.Recognizer()\n",
    "\n",
    "engine = p.init()\n",
    "\n",
    "voices = engine.getProperty(\"voices\")\n",
    "\n",
    "engine.setProperty(\"voice\",voices[1].id)\n",
    "\n",
    "rate = engine.getProperty('rate')   # getting details of current speaking rate\n",
    "\n",
    "engine.setProperty('rate', 150) \n"
   ]
  },
  {
   "cell_type": "code",
   "execution_count": null,
   "metadata": {},
   "outputs": [],
   "source": []
  },
  {
   "cell_type": "code",
   "execution_count": 11,
   "metadata": {},
   "outputs": [
    {
     "name": "stdout",
     "output_type": "stream",
     "text": [
      "Google request for me\n"
     ]
    }
   ],
   "source": [
    "#with microphone we are trying to obtain audio\n",
    "engine.say(\"Hello sir , what do you want me to do\")\n",
    "\n",
    "\n",
    "engine.runAndWait()\n",
    "\n",
    "with sr.Microphone() as source:\n",
    "    audio = r.listen(source)\n",
    "    \n",
    "    text = r.recognize_google(audio)\n",
    "    print(text)\n",
    "    "
   ]
  },
  {
   "cell_type": "code",
   "execution_count": 14,
   "metadata": {},
   "outputs": [],
   "source": [
    "def method(inp):\n",
    "    inp = inp.lower()\n",
    "    if \"google\" in inp:\n",
    "        url = \"https://www.google.com/search?q=\"\n",
    "        return url\n",
    "       \n",
    "    if\"youtube\" in inp:\n",
    "        url = \"https://www.youtube.com/results?search_query=\"\n",
    "        return url\n",
    "    \n",
    "    if\"stackoverflow\"in inp or \"stack overflow\" in inp :\n",
    "        url = \"https://stackoverflow.com/search?q=\"\n",
    "        return url\n",
    "    if \"play\"  in inp or \"song\" in inp:\n",
    "        url = \"https://gaana.com/song/\"\n",
    "        return url\n",
    "    else:\n",
    "        return inp\n",
    "      \n",
    "\n",
    "\n",
    "def gaana(query):\n",
    "    l = len(query)\n",
    "   \n",
    "    for i in range(l):\n",
    "        if query[i]== ' ':\n",
    "            text+=\"-\"\n",
    "        else:\n",
    "            if(i==0):\n",
    "                text= query[i]\n",
    "            else:\n",
    "                text+=query[i]\n",
    "            \n",
    "            \n",
    "    return text   \n",
    "\n",
    "def work(url,parameter):\n",
    "    r1= sr.Recognizer()\n",
    "    engine.say(\"Sir Please Say  Your \"+parameter+\" query \")\n",
    "    engine.runAndWait()\n",
    "    with sr.Microphone() as source:\n",
    "        \n",
    "            audio = r1.listen(source, timeout=3)\n",
    "            query= r1.recognize_google(audio)\n",
    "            if \"play\" in parameter or \"song\" in parameter:\n",
    "                query = gaana(query)\n",
    "                \n",
    "            wb.get().open_new(url+query)\n",
    "        \n",
    "            \n",
    "        \n",
    "    return\n",
    "def covid_info():\n",
    "    browser = webdriver.Chrome(\"C:\\Program Files (x86)\\chromedriver.exe\")\n",
    "    browser.get(\"https://www.coronatracker.com/country/india/\")\n",
    "   \n",
    "    ncases = browser.find_element_by_xpath('//*[@id=\"__layout\"]/div/main/div/div/div[1]/div[2]/div/div[2]/div[1]/p[3]')\n",
    "    ntext= ncases.text\n",
    "    cases =  browser.find_element_by_xpath('//*[@id=\"__layout\"]/div/main/div/div/div[1]/div[2]/div/div[2]/div[1]/p[1]')\n",
    "    ttext= cases.text\n",
    "    engine.say(ntext+\" found Today While total cases are \"+ttext)\n",
    "    engine.runAndWait()\n",
    "if \"covid\" in text:\n",
    "    covid_info()\n",
    "else:\n",
    "    url=method(text)\n",
    "    work(url,text)\n",
    "    "
   ]
  },
  {
   "cell_type": "code",
   "execution_count": null,
   "metadata": {},
   "outputs": [],
   "source": []
  }
 ],
 "metadata": {
  "kernelspec": {
   "display_name": "Python 3",
   "language": "python",
   "name": "python3"
  },
  "language_info": {
   "codemirror_mode": {
    "name": "ipython",
    "version": 3
   },
   "file_extension": ".py",
   "mimetype": "text/x-python",
   "name": "python",
   "nbconvert_exporter": "python",
   "pygments_lexer": "ipython3",
   "version": "3.8.3"
  }
 },
 "nbformat": 4,
 "nbformat_minor": 4
}
