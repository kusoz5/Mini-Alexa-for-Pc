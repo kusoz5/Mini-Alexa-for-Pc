{
 "cells": [
  {
   "cell_type": "code",
   "execution_count": 2,
   "metadata": {},
   "outputs": [],
   "source": [
    "from selenium import webdriver\n",
    "import pyttsx3 as p"
   ]
  },
  {
   "cell_type": "code",
   "execution_count": null,
   "metadata": {},
   "outputs": [],
   "source": []
  },
  {
   "cell_type": "code",
   "execution_count": 3,
   "metadata": {},
   "outputs": [],
   "source": [
    "def info():\n",
    "    browser = webdriver.Chrome(\"C:\\Program Files (x86)\\chromedriver.exe\")\n",
    "    browser.get(\"https://www.google.com/search?rlz=1C1CHBF_enIN870IN870&ei=uFaCX42hBoHd9QOsorIo&q=ipl+points+table&oq=ipl+p&gs_lcp=CgZwc3ktYWIQAxgAMgsIABCxAxCDARDJAzIMCAAQsQMQgwEQChBDMgoIABCxAxCDARBDMgQIABBDMgQIABBDMgQIABBDMggIABCxAxCDATIICAAQsQMQgwEyAggAMggIABCxAxCDAToHCAAQsAMQQzoLCC4QyQMQkQIQkwI6BQgAEJECOg4ILhCxAxCDARDHARCjAjoFCAAQsQM6DgguELEDEIMBEMkDEJMCOgoIABCxAxCDARAKOg4IABCxAxCDARDJAxCRAjoECC4QQzoNCAAQsQMQgwEQyQMQQzoLCAAQsQMQgwEQkQI6CAguELEDEIMBOgQIABAKOgUIABDJAzoHCAAQyQMQCjoICAAQFhAKEB46BggAEBYQHkoFCAcSATFKBQgIEgExUMwUWOlpYMBwaApwAHgAgAHKAYgBuRCSAQYwLjExLjGYAQCgAQGqAQdnd3Mtd2l6sAEAyAEKwAEB&sclient=psy-ab#sie=lg;/g/11h4yld3j_;5;/m/03b_lm1;st;fp;1;;\")\n",
    "   \n",
    "    ncases = browser.find_element_by_xpath('//*[@id=\"liveresults-sports-immersive__league-fullpage\"]/div/div[2]/div[2]/div/div/div/div[3]/div/div/div/div[2]/div/div/div/div/div/div/div/table/tbody/tr[2]')\n",
    "    ntext= ncases.text\n",
    "    print(ntext)\n",
    "    \n",
    "  #//*[@id=\"root\"]/div/div[3]/div[2]/div[1]/div[1]/div[2]/h2, \n",
    "  #//*[@id=\"root\"]/div/div[3]/div[2]/div[1]/div[1]/div[2]/h2"
   ]
  },
  {
   "cell_type": "code",
   "execution_count": 4,
   "metadata": {},
   "outputs": [
    {
     "name": "stdout",
     "output_type": "stream",
     "text": [
      "1\n",
      "DC\n",
      "6 5 1 +1.267 10\n"
     ]
    }
   ],
   "source": [
    "info()"
   ]
  },
  {
   "cell_type": "code",
   "execution_count": null,
   "metadata": {},
   "outputs": [],
   "source": []
  },
  {
   "cell_type": "code",
   "execution_count": null,
   "metadata": {},
   "outputs": [],
   "source": []
  },
  {
   "cell_type": "code",
   "execution_count": null,
   "metadata": {},
   "outputs": [],
   "source": []
  },
  {
   "cell_type": "code",
   "execution_count": null,
   "metadata": {},
   "outputs": [],
   "source": []
  }
 ],
 "metadata": {
  "kernelspec": {
   "display_name": "Python 3",
   "language": "python",
   "name": "python3"
  },
  "language_info": {
   "codemirror_mode": {
    "name": "ipython",
    "version": 3
   },
   "file_extension": ".py",
   "mimetype": "text/x-python",
   "name": "python",
   "nbconvert_exporter": "python",
   "pygments_lexer": "ipython3",
   "version": "3.8.3"
  }
 },
 "nbformat": 4,
 "nbformat_minor": 4
}
